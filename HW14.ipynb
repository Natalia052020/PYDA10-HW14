{
 "cells": [
  {
   "cell_type": "markdown",
   "metadata": {},
   "source": [
    "Задание 1.\n",
    "Обязательная часть\n",
    "Будем парсить страницу со свежеми новостям на habr.com/ru/all/.\n",
    "Вам необходимо собирать только те статьи, в которых встречается хотя бы одно требуемое ключевое слово. Эти слова определяем в начале кода в переменной, например:\n",
    "KEYWORDS = ['python', 'парсинг']\n",
    "Поиск вести по всей доступной preview-информации (это информация, доступная непосредственно с текущей страницы).\n",
    "В итоге должен формироваться датафрейм вида: <дата> - <заголовок> - <ссылка>\n",
    "Дополнительная часть (необязательная)\n",
    "Улучшить скрипт так, чтобы он анализировал не только preview-информацию статьи, но и весь текст статьи целиком.\n",
    "Для этого потребуется получать страницы статей и искать по тексту внутри этой страницы.\n",
    "Итоговый датафрейм формировать со столбцами: <дата> - <заголовок> - <ссылка> - <текст_статьи>\n"
   ]
  },
  {
   "cell_type": "code",
   "execution_count": 68,
   "metadata": {},
   "outputs": [],
   "source": [
    "import requests"
   ]
  },
  {
   "cell_type": "code",
   "execution_count": 69,
   "metadata": {},
   "outputs": [],
   "source": [
    "import time\n",
    "time.sleep(0.2)"
   ]
  },
  {
   "cell_type": "code",
   "execution_count": 70,
   "metadata": {},
   "outputs": [],
   "source": [
    "from bs4 import BeautifulSoup"
   ]
  },
  {
   "cell_type": "code",
   "execution_count": 71,
   "metadata": {},
   "outputs": [],
   "source": [
    "import pandas as pd"
   ]
  },
  {
   "cell_type": "code",
   "execution_count": 72,
   "metadata": {},
   "outputs": [],
   "source": [
    "#KEYWORDS = ['python', 'парсинг'] #Ничего не находит, найдем другие слова\n",
    "KEYWORDS = ['контекст', 'статья'] "
   ]
  },
  {
   "cell_type": "code",
   "execution_count": 73,
   "metadata": {},
   "outputs": [],
   "source": [
    "req = requests.get('https://habr.com/ru/all/')\n",
    "soup = BeautifulSoup(req.text, 'html.parser')"
   ]
  },
  {
   "cell_type": "code",
   "execution_count": 74,
   "metadata": {},
   "outputs": [],
   "source": [
    "posts = soup.find_all('article', class_='post_preview')\n",
    "# len(posts)\n",
    "# posts"
   ]
  },
  {
   "cell_type": "code",
   "execution_count": 77,
   "metadata": {},
   "outputs": [
    {
     "data": {
      "text/html": [
       "<div>\n",
       "<style scoped>\n",
       "    .dataframe tbody tr th:only-of-type {\n",
       "        vertical-align: middle;\n",
       "    }\n",
       "\n",
       "    .dataframe tbody tr th {\n",
       "        vertical-align: top;\n",
       "    }\n",
       "\n",
       "    .dataframe thead th {\n",
       "        text-align: right;\n",
       "    }\n",
       "</style>\n",
       "<table border=\"1\" class=\"dataframe\">\n",
       "  <thead>\n",
       "    <tr style=\"text-align: right;\">\n",
       "      <th></th>\n",
       "      <th>date</th>\n",
       "      <th>title</th>\n",
       "      <th>link</th>\n",
       "    </tr>\n",
       "  </thead>\n",
       "  <tbody>\n",
       "    <tr>\n",
       "      <th>0</th>\n",
       "      <td>сегодня в 19:00</td>\n",
       "      <td>Подключение автоплатежей через TeleWalletAbot ...</td>\n",
       "      <td>https://habr.com/ru/post/524316/</td>\n",
       "    </tr>\n",
       "    <tr>\n",
       "      <th>1</th>\n",
       "      <td>сегодня в 18:02</td>\n",
       "      <td>Онлайн-встреча по информационной безопасности ...</td>\n",
       "      <td>https://habr.com/ru/company/dsec/blog/524338/</td>\n",
       "    </tr>\n",
       "  </tbody>\n",
       "</table>\n",
       "</div>"
      ],
      "text/plain": [
       "              date                                              title  \\\n",
       "0  сегодня в 19:00  Подключение автоплатежей через TeleWalletAbot ...   \n",
       "1  сегодня в 18:02  Онлайн-встреча по информационной безопасности ...   \n",
       "\n",
       "                                            link  \n",
       "0               https://habr.com/ru/post/524316/  \n",
       "1  https://habr.com/ru/company/dsec/blog/524338/  "
      ]
     },
     "execution_count": 77,
     "metadata": {},
     "output_type": "execute_result"
    }
   ],
   "source": [
    "news_list = []\n",
    "for post in posts:\n",
    "    post_id = post.parent.attrs.get('id')\n",
    "   \n",
    "    if not post_id:\n",
    "        continue\n",
    "    \n",
    "    post_id = int(post_id.split('_')[-1])\n",
    "    text_preview = post.find_all('div', class_='post__text')\n",
    "    \n",
    "    for preview in text_preview:\n",
    "#         print(preview)\n",
    "        preview_lower = preview.text.lower()\n",
    "#         print(preview_lower) \n",
    "        if any([desired in preview_lower for desired in KEYWORDS]):\n",
    "#             print(preview_lower)\n",
    "                \n",
    "            date_element = post.find('span', class_ = 'post__time')\n",
    "            title_element = post.find('a', class_='post__title_link')\n",
    "            link_element = title_element.attrs.get('href')\n",
    "           \n",
    "            news_list.append({'date': date_element.text, 'title': title_element.text, 'link': link_element})\n",
    "            \n",
    "df = pd.DataFrame(news_list)\n",
    "df"
   ]
  },
  {
   "cell_type": "markdown",
   "metadata": {},
   "source": [
    "Задание 2.\n",
    "Обязательная часть\n",
    "Написать скрипт, который будет проверять список e-mail адресов на утечку при помощи сервиса Avast Hack Ckeck. Список email-ов задаем переменной в начале кода:\n",
    "EMAIL = [xxx@x.ru, yyy@y.com]\n",
    "В итоге должен формироваться датафрейм со столбцами: <почта> - <да\n",
    "Подсказка: сервис работает при помощи \"скрытого\" API. Внимательно изучите post-запросы.\n",
    "Дополнительная часть (необязательная)\n",
    "Написать скрипт, который будет получать 50 последних постов указанной группы во Вконтакте.\n",
    "Документация к API VK: https://vk.com/dev/methods , вам поможет метод wall.get\n",
    "GROUP = 'netology'  \n",
    "TOKEN = УДАЛЯЙТЕ В ВЕРСИИ ДЛЯ ПРОВЕРКИ, НА GITHUB НЕ ВЫКЛАДЫВАТЬ\n",
    "В итоге должен формироваться датафрейм со столбцами: <дата поста> - <текст поста>\n"
   ]
  },
  {
   "cell_type": "code",
   "execution_count": 84,
   "metadata": {},
   "outputs": [],
   "source": [
    "import json\n",
    "import datetime\n",
    "EMAIL = ['example@gmail.com', 'example@mail.ru']\n",
    "list_ = []"
   ]
  },
  {
   "cell_type": "code",
   "execution_count": 86,
   "metadata": {},
   "outputs": [
    {
     "data": {
      "text/html": [
       "<div>\n",
       "<style scoped>\n",
       "    .dataframe tbody tr th:only-of-type {\n",
       "        vertical-align: middle;\n",
       "    }\n",
       "\n",
       "    .dataframe tbody tr th {\n",
       "        vertical-align: top;\n",
       "    }\n",
       "\n",
       "    .dataframe thead th {\n",
       "        text-align: right;\n",
       "    }\n",
       "</style>\n",
       "<table border=\"1\" class=\"dataframe\">\n",
       "  <thead>\n",
       "    <tr style=\"text-align: right;\">\n",
       "      <th></th>\n",
       "      <th>почта</th>\n",
       "      <th>дата утечки</th>\n",
       "      <th>источник утечки</th>\n",
       "    </tr>\n",
       "  </thead>\n",
       "  <tbody>\n",
       "    <tr>\n",
       "      <th>0</th>\n",
       "      <td>None</td>\n",
       "      <td>2019-07-25 03:00:00.000</td>\n",
       "      <td>None</td>\n",
       "    </tr>\n",
       "    <tr>\n",
       "      <th>1</th>\n",
       "      <td>None</td>\n",
       "      <td>2020-07-23 03:00:00.000</td>\n",
       "      <td>None</td>\n",
       "    </tr>\n",
       "    <tr>\n",
       "      <th>2</th>\n",
       "      <td>None</td>\n",
       "      <td>2019-04-04 03:00:00.000</td>\n",
       "      <td>None</td>\n",
       "    </tr>\n",
       "    <tr>\n",
       "      <th>3</th>\n",
       "      <td>None</td>\n",
       "      <td>2019-10-17 03:00:00.000</td>\n",
       "      <td>None</td>\n",
       "    </tr>\n",
       "    <tr>\n",
       "      <th>4</th>\n",
       "      <td>None</td>\n",
       "      <td>2019-07-25 03:00:00.000</td>\n",
       "      <td>None</td>\n",
       "    </tr>\n",
       "    <tr>\n",
       "      <th>...</th>\n",
       "      <td>...</td>\n",
       "      <td>...</td>\n",
       "      <td>...</td>\n",
       "    </tr>\n",
       "    <tr>\n",
       "      <th>230</th>\n",
       "      <td>None</td>\n",
       "      <td>2020-07-23 03:00:00.000</td>\n",
       "      <td>None</td>\n",
       "    </tr>\n",
       "    <tr>\n",
       "      <th>231</th>\n",
       "      <td>None</td>\n",
       "      <td>2020-02-13 03:00:00.000</td>\n",
       "      <td>None</td>\n",
       "    </tr>\n",
       "    <tr>\n",
       "      <th>232</th>\n",
       "      <td>None</td>\n",
       "      <td>2020-09-24 03:00:00.000</td>\n",
       "      <td>None</td>\n",
       "    </tr>\n",
       "    <tr>\n",
       "      <th>233</th>\n",
       "      <td>None</td>\n",
       "      <td>2019-12-05 03:00:00.000</td>\n",
       "      <td>None</td>\n",
       "    </tr>\n",
       "    <tr>\n",
       "      <th>234</th>\n",
       "      <td>None</td>\n",
       "      <td>2020-08-13 03:00:00.000</td>\n",
       "      <td>None</td>\n",
       "    </tr>\n",
       "  </tbody>\n",
       "</table>\n",
       "<p>235 rows × 3 columns</p>\n",
       "</div>"
      ],
      "text/plain": [
       "    почта              дата утечки источник утечки\n",
       "0    None  2019-07-25 03:00:00.000            None\n",
       "1    None  2020-07-23 03:00:00.000            None\n",
       "2    None  2019-04-04 03:00:00.000            None\n",
       "3    None  2019-10-17 03:00:00.000            None\n",
       "4    None  2019-07-25 03:00:00.000            None\n",
       "..    ...                      ...             ...\n",
       "230  None  2020-07-23 03:00:00.000            None\n",
       "231  None  2020-02-13 03:00:00.000            None\n",
       "232  None  2020-09-24 03:00:00.000            None\n",
       "233  None  2019-12-05 03:00:00.000            None\n",
       "234  None  2020-08-13 03:00:00.000            None\n",
       "\n",
       "[235 rows x 3 columns]"
      ]
     },
     "execution_count": 86,
     "metadata": {},
     "output_type": "execute_result"
    }
   ],
   "source": [
    "for i in range(0, len(EMAIL)):\n",
    "    data_email = {'email': EMAIL[i]}\n",
    "    data_email_json = json.dumps(data_email)\n",
    "    req = requests.post('https://digibody.avast.com/v1/web/leaks', data = data_email_json)\n",
    "    req_dict = req.json()\n",
    "#     g = req_dict['value'][i]['description']\n",
    "#     print(req_dict)\n",
    "#     print(g)\n",
    "    \n",
    "    for i in range(0, len(req_dict['value'])):\n",
    "    \n",
    "        email = req_dict['value'][i]['username']\n",
    "         \n",
    "        leak_date = req_dict['value'][i]['leak_date']\n",
    "        dt = datetime.datetime.fromtimestamp(leak_date / 1000)\n",
    "        formatted_time = dt.isoformat(sep=' ', timespec='milliseconds')\n",
    "        \n",
    "        leak_source = req_dict['value'][i]['domain']\n",
    "        \n",
    "    #     leak_description = req_dict['value'][i]['description']\n",
    "    \n",
    "    #     list_.append({'почта': email, 'дата утечки': leak_date, 'источник утечки': leak_source, 'описание утечки': leak_description})\n",
    "        list_.append({'почта': email, 'дата утечки': formatted_time, 'источник утечки': leak_source})\n",
    "\n",
    "data = pd.DataFrame(list_)\n",
    "data"
   ]
  }
 ],
 "metadata": {
  "kernelspec": {
   "display_name": "Python 3",
   "language": "python",
   "name": "python3"
  },
  "language_info": {
   "codemirror_mode": {
    "name": "ipython",
    "version": 3
   },
   "file_extension": ".py",
   "mimetype": "text/x-python",
   "name": "python",
   "nbconvert_exporter": "python",
   "pygments_lexer": "ipython3",
   "version": "3.7.6"
  }
 },
 "nbformat": 4,
 "nbformat_minor": 4
}
